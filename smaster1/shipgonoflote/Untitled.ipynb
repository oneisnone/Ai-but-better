{
 "cells": [
  {
   "cell_type": "code",
   "execution_count": 42,
   "id": "f67cf296",
   "metadata": {},
   "outputs": [
    {
     "data": {
      "text/html": [
       "<div>\n",
       "<style scoped>\n",
       "    .dataframe tbody tr th:only-of-type {\n",
       "        vertical-align: middle;\n",
       "    }\n",
       "\n",
       "    .dataframe tbody tr th {\n",
       "        vertical-align: top;\n",
       "    }\n",
       "\n",
       "    .dataframe thead th {\n",
       "        text-align: right;\n",
       "    }\n",
       "</style>\n",
       "<table border=\"1\" class=\"dataframe\">\n",
       "  <thead>\n",
       "    <tr style=\"text-align: right;\">\n",
       "      <th></th>\n",
       "      <th>PassengerId</th>\n",
       "      <th>Survived</th>\n",
       "      <th>Pclass</th>\n",
       "      <th>Name</th>\n",
       "      <th>Sex</th>\n",
       "      <th>Age</th>\n",
       "      <th>SibSp</th>\n",
       "      <th>Parch</th>\n",
       "      <th>Ticket</th>\n",
       "      <th>Fare</th>\n",
       "      <th>Cabin</th>\n",
       "      <th>Embarked</th>\n",
       "    </tr>\n",
       "  </thead>\n",
       "  <tbody>\n",
       "  </tbody>\n",
       "</table>\n",
       "</div>"
      ],
      "text/plain": [
       "Empty DataFrame\n",
       "Columns: [PassengerId, Survived, Pclass, Name, Sex, Age, SibSp, Parch, Ticket, Fare, Cabin, Embarked]\n",
       "Index: []"
      ]
     },
     "execution_count": 42,
     "metadata": {},
     "output_type": "execute_result"
    }
   ],
   "source": [
    "import pandas as pd\n",
    "import seaborn as sns\n",
    "over= 0\n",
    "df = pd.read_csv('titanic.csv')\n",
    "df.head(0)"
   ]
  },
  {
   "cell_type": "code",
   "execution_count": 43,
   "id": "353ffa32",
   "metadata": {
    "scrolled": true
   },
   "outputs": [
    {
     "data": {
      "text/html": [
       "<div>\n",
       "<style scoped>\n",
       "    .dataframe tbody tr th:only-of-type {\n",
       "        vertical-align: middle;\n",
       "    }\n",
       "\n",
       "    .dataframe tbody tr th {\n",
       "        vertical-align: top;\n",
       "    }\n",
       "\n",
       "    .dataframe thead th {\n",
       "        text-align: right;\n",
       "    }\n",
       "</style>\n",
       "<table border=\"1\" class=\"dataframe\">\n",
       "  <thead>\n",
       "    <tr style=\"text-align: right;\">\n",
       "      <th></th>\n",
       "      <th>PassengerId</th>\n",
       "      <th>Survived</th>\n",
       "      <th>Pclass</th>\n",
       "      <th>Name</th>\n",
       "      <th>Sex</th>\n",
       "      <th>Age</th>\n",
       "      <th>SibSp</th>\n",
       "      <th>Parch</th>\n",
       "      <th>Ticket</th>\n",
       "      <th>Fare</th>\n",
       "      <th>Cabin</th>\n",
       "      <th>Embarked</th>\n",
       "    </tr>\n",
       "  </thead>\n",
       "  <tbody>\n",
       "    <tr>\n",
       "      <th>49</th>\n",
       "      <td>50</td>\n",
       "      <td>0</td>\n",
       "      <td>3</td>\n",
       "      <td>Arnold-Franchi, Mrs. Josef (Josefine Franchi)</td>\n",
       "      <td>female</td>\n",
       "      <td>18.0</td>\n",
       "      <td>1</td>\n",
       "      <td>0</td>\n",
       "      <td>349237</td>\n",
       "      <td>17.8</td>\n",
       "      <td>NaN</td>\n",
       "      <td>S</td>\n",
       "    </tr>\n",
       "  </tbody>\n",
       "</table>\n",
       "</div>"
      ],
      "text/plain": [
       "    PassengerId  Survived  Pclass  \\\n",
       "49           50         0       3   \n",
       "\n",
       "                                             Name     Sex   Age  SibSp  Parch  \\\n",
       "49  Arnold-Franchi, Mrs. Josef (Josefine Franchi)  female  18.0      1      0   \n",
       "\n",
       "    Ticket  Fare Cabin Embarked  \n",
       "49  349237  17.8   NaN        S  "
      ]
     },
     "execution_count": 43,
     "metadata": {},
     "output_type": "execute_result"
    }
   ],
   "source": [
    "df[df['PassengerId'] == 50]"
   ]
  },
  {
   "cell_type": "code",
   "execution_count": 44,
   "id": "e96cc49b",
   "metadata": {},
   "outputs": [
    {
     "name": "stdout",
     "output_type": "stream",
     "text": [
      "575\n"
     ]
    }
   ],
   "source": [
    "x = 0\n",
    "for i in range(len(df)):\n",
    "    if df.loc[i, 'Age'] > 18:\n",
    "        x += 1\n",
    "        \n",
    "print(x)"
   ]
  },
  {
   "cell_type": "code",
   "execution_count": 45,
   "id": "4c872851",
   "metadata": {},
   "outputs": [
    {
     "name": "stdout",
     "output_type": "stream",
     "text": [
      "64.75869809203144 %\n"
     ]
    }
   ],
   "source": [
    "x =0\n",
    "for i in range(len(df)):\n",
    "    if df.loc[i, 'Sex'] == \"male\":\n",
    "        x += 1\n",
    "x= x/len(df)\n",
    "x= x*100\n",
    "print(x,\"%\")"
   ]
  },
  {
   "cell_type": "code",
   "execution_count": 46,
   "id": "044ee48e",
   "metadata": {},
   "outputs": [
    {
     "name": "stdout",
     "output_type": "stream",
     "text": [
      "1 class 24.242424242424242 216\n",
      "2 class 20.65095398428732 184\n",
      "3 class 55.106621773288445 491\n"
     ]
    },
    {
     "data": {
      "text/plain": [
       "<AxesSubplot:xlabel='Category', ylabel='Values'>"
      ]
     },
     "execution_count": 46,
     "metadata": {},
     "output_type": "execute_result"
    },
    {
     "data": {
      "image/png": "[encoded data removed]",
      "text/plain": [
       "<Figure size 640x480 with 1 Axes>"
      ]
     },
     "metadata": {},
     "output_type": "display_data"
    }
   ],
   "source": [
    "class1 =0\n",
    "class2 =0\n",
    "class3 =0\n",
    "for i in range(len(df)):\n",
    "    if df.loc[i, 'Pclass'] == 1:\n",
    "        class1 += 1\n",
    "    elif df.loc[i, 'Pclass'] == 2:\n",
    "        class2 += 1\n",
    "    else:\n",
    "        class3 += 1\n",
    "print(\"1 class\",class1/len(df)*100, class1)\n",
    "print(\"2 class\" ,class2/len(df)*100, class2)\n",
    "print(\"3 class\",class3/len(df)*100, class3)\n",
    "data = {\n",
    "    'Category': ['1 class', '2 class', '3 class'],\n",
    "    'Values': [class1/len(df)*100, class2/len(df)*100, class3/len(df)*100]\n",
    "}\n",
    "df = pd.DataFrame(data)\n",
    "sns.barplot(x='Category', y='Values', data=df)\n",
    "\n"
   ]
  },
  {
   "cell_type": "code",
   "execution_count": 31,
   "id": "b43ea1c9",
   "metadata": {},
   "outputs": [
    {
     "name": "stdout",
     "output_type": "stream",
     "text": [
      "Q port 8.641975308641975 77\n",
      "C port 18.855218855218855 168\n",
      "S port 72.27833894500561 644\n",
      "2\n"
     ]
    },
    {
     "data": {
      "text/plain": [
       "<AxesSubplot:xlabel='Category', ylabel='Values'>"
      ]
     },
     "execution_count": 31,
     "metadata": {},
     "output_type": "execute_result"
    },
    {
     "data": {
      "image/png": "[encoded data removed]",
      "text/plain": [
       "<Figure size 640x480 with 1 Axes>"
      ]
     },
     "metadata": {},
     "output_type": "display_data"
    }
   ],
   "source": [
    "Q =0\n",
    "C =0\n",
    "S =0\n",
    "U =0\n",
    "\n",
    "for i in range(len(df)):\n",
    "    if df.loc[i, 'Embarked'] == \"Q\":\n",
    "        Q += 1\n",
    "    elif df.loc[i, 'Embarked'] == \"C\":\n",
    "        C += 1\n",
    "    elif df.loc[i, 'Embarked'] == \"S\":\n",
    "        S += 1\n",
    "    else:\n",
    "        U += 1\n",
    "print(\"Q port\",Q/len(df)*100, Q)\n",
    "print(\"C port\" ,C/len(df)*100, C)\n",
    "print(\"S port\",S/len(df)*100, S)\n",
    "print(U)\n",
    "data = {\n",
    "    'Category': ['Q port', 'c port', 's port'],\n",
    "    'Values': [Q, C, S]\n",
    "}\n",
    "df = pd.DataFrame(data)\n",
    "\n",
    "# Create the bar plot\n",
    "sns.barplot(x='Category', y='Values', data=df)\n"
   ]
  },
  {
   "cell_type": "code",
   "execution_count": 24,
   "id": "1c1df5d6",
   "metadata": {},
   "outputs": [
    {
     "data": {
      "text/html": [
       "<div>\n",
       "<style scoped>\n",
       "    .dataframe tbody tr th:only-of-type {\n",
       "        vertical-align: middle;\n",
       "    }\n",
       "\n",
       "    .dataframe tbody tr th {\n",
       "        vertical-align: top;\n",
       "    }\n",
       "\n",
       "    .dataframe thead th {\n",
       "        text-align: right;\n",
       "    }\n",
       "</style>\n",
       "<table border=\"1\" class=\"dataframe\">\n",
       "  <thead>\n",
       "    <tr style=\"text-align: right;\">\n",
       "      <th></th>\n",
       "      <th>C port</th>\n",
       "      <th>S port</th>\n",
       "      <th>Q port</th>\n",
       "    </tr>\n",
       "  </thead>\n",
       "  <tbody>\n",
       "    <tr>\n",
       "      <th>survided</th>\n",
       "      <td>93.00</td>\n",
       "      <td>217.000000</td>\n",
       "      <td>30.000000</td>\n",
       "    </tr>\n",
       "    <tr>\n",
       "      <th>not survided</th>\n",
       "      <td>75.00</td>\n",
       "      <td>427.000000</td>\n",
       "      <td>47.000000</td>\n",
       "    </tr>\n",
       "    <tr>\n",
       "      <th>amount of people</th>\n",
       "      <td>168.00</td>\n",
       "      <td>644.000000</td>\n",
       "      <td>77.000000</td>\n",
       "    </tr>\n",
       "    <tr>\n",
       "      <th>percent of lived</th>\n",
       "      <td>94.24</td>\n",
       "      <td>217.508197</td>\n",
       "      <td>30.638298</td>\n",
       "    </tr>\n",
       "  </tbody>\n",
       "</table>\n",
       "</div>"
      ],
      "text/plain": [
       "                  C port      S port     Q port\n",
       "survided           93.00  217.000000  30.000000\n",
       "not survided       75.00  427.000000  47.000000\n",
       "amount of people  168.00  644.000000  77.000000\n",
       "percent of lived   94.24  217.508197  30.638298"
      ]
     },
     "execution_count": 24,
     "metadata": {},
     "output_type": "execute_result"
    }
   ],
   "source": [
    "S = 0\n",
    "C = 0 \n",
    "Q = 0\n",
    "S2 = 0\n",
    "C2 = 0 \n",
    "Q2 = 0\n",
    "for i in range(len(df)):\n",
    "    if df.loc[i , \"Embarked\"] == \"S\" and df.loc[i, \"Survived\"] == 1:\n",
    "        S += 1\n",
    "    if df.loc[i , \"Embarked\"] == \"Q\" and df.loc[i, \"Survived\"] == 1:\n",
    "        Q += 1\n",
    "    if df.loc[i , \"Embarked\"] == \"C\" and df.loc[i, \"Survived\"] == 1:\n",
    "        C += 1\n",
    "    if df.loc[i , \"Embarked\"] == \"S\" and df.loc[i, \"Survived\"] == 0:\n",
    "        S2 += 1\n",
    "    if df.loc[i , \"Embarked\"] == \"Q\" and df.loc[i, \"Survived\"] == 0:\n",
    "        Q2 += 1\n",
    "    if df.loc[i , \"Embarked\"] == \"C\" and df.loc[i, \"Survived\"] == 0:\n",
    "        C2 += 1       \n",
    "        \n",
    "        \n",
    "table = pd.DataFrame({\n",
    "    \"C port\":[C,C2,C2+C,C/C2+C],\n",
    "    \"S port\":[S,S2,S2+S,S/S2+S],\n",
    "    \"Q port\":[Q,Q2,Q2+Q,Q/Q2+Q]\n",
    "})\n",
    "table.index=[\"survided\",\"not survided\",\"amount of people\",\"percent of lived\"]\n",
    "table.head()"
   ]
  },
  {
   "cell_type": "code",
   "execution_count": 7,
   "id": "05c7e0f6",
   "metadata": {
    "scrolled": true
   },
   "outputs": [
    {
     "name": "stdout",
     "output_type": "stream",
     "text": [
      "nan\n"
     ]
    }
   ],
   "source": [
    "\n",
    "age = 0\n",
    "for i in range(len(df)):\n",
    "    if df.loc[i , \"Sex\"] == \"male\":\n",
    "        age += df.loc[i, \"Age\"] \n",
    "        \n",
    "        \n",
    "print(age/len(df))"
   ]
  },
  {
   "cell_type": "code",
   "execution_count": 5,
   "id": "2ce1f379",
   "metadata": {},
   "outputs": [
    {
     "data": {
      "text/html": [
       "<div>\n",
       "<style scoped>\n",
       "    .dataframe tbody tr th:only-of-type {\n",
       "        vertical-align: middle;\n",
       "    }\n",
       "\n",
       "    .dataframe tbody tr th {\n",
       "        vertical-align: top;\n",
       "    }\n",
       "\n",
       "    .dataframe thead th {\n",
       "        text-align: right;\n",
       "    }\n",
       "</style>\n",
       "<table border=\"1\" class=\"dataframe\">\n",
       "  <thead>\n",
       "    <tr style=\"text-align: right;\">\n",
       "      <th></th>\n",
       "      <th>over 18</th>\n",
       "      <th>under 18</th>\n",
       "    </tr>\n",
       "  </thead>\n",
       "  <tbody>\n",
       "    <tr>\n",
       "      <th>survided</th>\n",
       "      <td>14.663462</td>\n",
       "      <td>85.336538</td>\n",
       "    </tr>\n",
       "    <tr>\n",
       "      <th>not survided</th>\n",
       "      <td>80.000000</td>\n",
       "      <td>19.117647</td>\n",
       "    </tr>\n",
       "  </tbody>\n",
       "</table>\n",
       "</div>"
      ],
      "text/plain": [
       "                over 18   under 18\n",
       "survided      14.663462  85.336538\n",
       "not survided  80.000000  19.117647"
      ]
     },
     "execution_count": 5,
     "metadata": {},
     "output_type": "execute_result"
    }
   ],
   "source": [
    "D1 = 0\n",
    "D2 = 0\n",
    "S1 = 0 \n",
    "S2 = 0\n",
    "for i in range(len(df)):\n",
    "    if df.loc[i , \"Age\"] < 18 and  df.loc[i , \"Survived\"] == 1:\n",
    "        S2 += 1\n",
    "    elif df.loc[i , \"Age\"] > 18 and  df.loc[i , \"Survived\"] == 1:\n",
    "        D2 += 1   \n",
    "    elif df.loc[i , \"Age\"] < 18 and  df.loc[i , \"Survived\"] == 0:\n",
    "        S1 += 1   \n",
    "    elif df.loc[i , \"Age\"] > 18 and  df.loc[i , \"Survived\"] == 0:\n",
    "        D1 += 1   \n",
    "    \n",
    "conTable = pd.DataFrame({\n",
    "    \"over 18\":[S2/(S2+D1)*100, round(int(D2/(D2+S1)*100), 2)],\n",
    "    \"under 18\":[D1/(S2+D1)*100, S1/(D2+S1)*100]\n",
    "})\n",
    "conTable.index=[\"survided\", \"not survided\"]\n",
    "conTable.head()"
   ]
  },
  {
   "cell_type": "code",
   "execution_count": null,
   "id": "e6e11a76",
   "metadata": {},
   "outputs": [],
   "source": []
  }
 ],
 "metadata": {
  "kernelspec": {
   "display_name": "Python 3 (ipykernel)",
   "language": "python",
   "name": "python3"
  },
  "language_info": {
   "codemirror_mode": {
    "name": "ipython",
    "version": 3
   },
   "file_extension": ".py",
   "mimetype": "text/x-python",
   "name": "python",
   "nbconvert_exporter": "python",
   "pygments_lexer": "ipython3",
   "version": "3.9.13"
  }
 },
 "nbformat": 4,
 "nbformat_minor": 5
}
