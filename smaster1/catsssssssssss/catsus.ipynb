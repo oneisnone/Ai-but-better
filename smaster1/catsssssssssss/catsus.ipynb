{
 "cells": [
  {
   "cell_type": "code",
   "execution_count": 39,
   "id": "252b1667",
   "metadata": {
    "scrolled": true
   },
   "outputs": [
    {
     "data": {
      "text/html": [
       "<div>\n",
       "<style scoped>\n",
       "    .dataframe tbody tr th:only-of-type {\n",
       "        vertical-align: middle;\n",
       "    }\n",
       "\n",
       "    .dataframe tbody tr th {\n",
       "        vertical-align: top;\n",
       "    }\n",
       "\n",
       "    .dataframe thead th {\n",
       "        text-align: right;\n",
       "    }\n",
       "</style>\n",
       "<table border=\"1\" class=\"dataframe\">\n",
       "  <thead>\n",
       "    <tr style=\"text-align: right;\">\n",
       "      <th></th>\n",
       "      <th>Unnamed: 0</th>\n",
       "      <th>Breed</th>\n",
       "      <th>Age (Years)</th>\n",
       "      <th>Weight (kg)</th>\n",
       "      <th>Color</th>\n",
       "      <th>Gender</th>\n",
       "      <th>ID</th>\n",
       "    </tr>\n",
       "  </thead>\n",
       "  <tbody>\n",
       "    <tr>\n",
       "      <th>0</th>\n",
       "      <td>0</td>\n",
       "      <td>Egyptian Mau</td>\n",
       "      <td>12</td>\n",
       "      <td>7</td>\n",
       "      <td>White</td>\n",
       "      <td>Male</td>\n",
       "      <td>181</td>\n",
       "    </tr>\n",
       "    <tr>\n",
       "      <th>1</th>\n",
       "      <td>1</td>\n",
       "      <td>Scottish Fold</td>\n",
       "      <td>17</td>\n",
       "      <td>8</td>\n",
       "      <td>Tortoiseshell</td>\n",
       "      <td>Male</td>\n",
       "      <td>907</td>\n",
       "    </tr>\n",
       "    <tr>\n",
       "      <th>2</th>\n",
       "      <td>2</td>\n",
       "      <td>Sphynx</td>\n",
       "      <td>9</td>\n",
       "      <td>9</td>\n",
       "      <td>Orange</td>\n",
       "      <td>Male</td>\n",
       "      <td>732</td>\n",
       "    </tr>\n",
       "    <tr>\n",
       "      <th>3</th>\n",
       "      <td>3</td>\n",
       "      <td>Oriental</td>\n",
       "      <td>6</td>\n",
       "      <td>7</td>\n",
       "      <td>Gray</td>\n",
       "      <td>Female</td>\n",
       "      <td>464</td>\n",
       "    </tr>\n",
       "    <tr>\n",
       "      <th>4</th>\n",
       "      <td>4</td>\n",
       "      <td>Savannah</td>\n",
       "      <td>14</td>\n",
       "      <td>7</td>\n",
       "      <td>Tortoiseshell</td>\n",
       "      <td>Female</td>\n",
       "      <td>451</td>\n",
       "    </tr>\n",
       "  </tbody>\n",
       "</table>\n",
       "</div>"
      ],
      "text/plain": [
       "   Unnamed: 0          Breed  Age (Years)  Weight (kg)          Color  Gender  \\\n",
       "0           0   Egyptian Mau           12            7          White    Male   \n",
       "1           1  Scottish Fold           17            8  Tortoiseshell    Male   \n",
       "2           2         Sphynx            9            9         Orange    Male   \n",
       "3           3       Oriental            6            7           Gray  Female   \n",
       "4           4       Savannah           14            7  Tortoiseshell  Female   \n",
       "\n",
       "    ID  \n",
       "0  181  \n",
       "1  907  \n",
       "2  732  \n",
       "3  464  \n",
       "4  451  "
      ]
     },
     "execution_count": 39,
     "metadata": {},
     "output_type": "execute_result"
    }
   ],
   "source": [
    "import pandas as pd\n",
    "pd.read_csv('cats - cats.csv').head()\n"
   ]
  },
  {
   "cell_type": "code",
   "execution_count": null,
   "id": "2472877a",
   "metadata": {},
   "outputs": [],
   "source": []
  },
  {
   "cell_type": "code",
   "execution_count": null,
   "id": "e0705a9c",
   "metadata": {},
   "outputs": [],
   "source": []
  },
  {
   "cell_type": "code",
   "execution_count": null,
   "id": "3899721a",
   "metadata": {},
   "outputs": [],
   "source": []
  }
 ],
 "metadata": {
  "kernelspec": {
   "display_name": "Python 3 (ipykernel)",
   "language": "python",
   "name": "python3"
  },
  "language_info": {
   "codemirror_mode": {
    "name": "ipython",
    "version": 3
   },
   "file_extension": ".py",
   "mimetype": "text/x-python",
   "name": "python",
   "nbconvert_exporter": "python",
   "pygments_lexer": "ipython3",
   "version": "3.9.13"
  }
 },
 "nbformat": 4,
 "nbformat_minor": 5
}
