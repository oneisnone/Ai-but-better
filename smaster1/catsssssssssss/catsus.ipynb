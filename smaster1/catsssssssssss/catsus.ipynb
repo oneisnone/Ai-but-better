{
 "cells": [
  {
   "cell_type": "code",
   "execution_count": 4,
   "id": "252b1667",
   "metadata": {
    "scrolled": true
   },
   "outputs": [
    {
     "data": {
      "text/plain": [
       "Unnamed: 0.2           43\n",
       "Unnamed: 0.1           43\n",
       "Unnamed: 0             43\n",
       "Breed           Devon Rex\n",
       "Age (Years)             3\n",
       "Weight (kg)             7\n",
       "Color             Bicolor\n",
       "Gender             Female\n",
       "ID                    704\n",
       "Name: 43, dtype: object"
      ]
     },
     "execution_count": 4,
     "metadata": {},
     "output_type": "execute_result"
    }
   ],
   "source": [
    "import pandas as pd\n",
    "df = pd.read_csv('cats - cats.csv')\n",
    "\n",
    "df.loc[len(df)] = [0,0,0,\"orrange\" , 3 , 5 ,\"orange\", \"male\", len(df)]\n",
    "df.loc[43]"
   ]
  },
  {
   "cell_type": "code",
   "execution_count": null,
   "id": "2472877a",
   "metadata": {},
   "outputs": [],
   "source": []
  },
  {
   "cell_type": "code",
   "execution_count": null,
   "id": "e0705a9c",
   "metadata": {},
   "outputs": [],
   "source": []
  },
  {
   "cell_type": "code",
   "execution_count": null,
   "id": "3899721a",
   "metadata": {},
   "outputs": [],
   "source": []
  }
 ],
 "metadata": {
  "kernelspec": {
   "display_name": "Python 3 (ipykernel)",
   "language": "python",
   "name": "python3"
  },
  "language_info": {
   "codemirror_mode": {
    "name": "ipython",
    "version": 3
   },
   "file_extension": ".py",
   "mimetype": "text/x-python",
   "name": "python",
   "nbconvert_exporter": "python",
   "pygments_lexer": "ipython3",
   "version": "3.9.13"
  }
 },
 "nbformat": 4,
 "nbformat_minor": 5
}
