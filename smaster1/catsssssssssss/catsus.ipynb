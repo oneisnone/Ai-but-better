{
 "cells": [
  {
   "cell_type": "code",
   "execution_count": 64,
   "id": "252b1667",
   "metadata": {
    "scrolled": true
   },
   "outputs": [
    {
     "data": {
      "text/plain": [
       "<bound method NDFrame.tail of       Unnamed: 0.2  Unnamed: 0.1  Unnamed: 0          Breed  Age (Years)  \\\n",
       "0                0             0           0   Egyptian Mau           12   \n",
       "1                1             1           1  Scottish Fold           17   \n",
       "2                2             2           2         Sphynx            9   \n",
       "3                3             3           3       Oriental            6   \n",
       "4                4             4           4       Savannah           14   \n",
       "...            ...           ...         ...            ...          ...   \n",
       "996            996           996         996        Burmese            4   \n",
       "997            997           997         997        Persian           19   \n",
       "998            998           998         998        Persian           17   \n",
       "999            999           999         999           Manx           18   \n",
       "1000             0             0           0        orrange            3   \n",
       "\n",
       "      Weight (kg)          Color  Gender    ID  \n",
       "0               7          White    Male   181  \n",
       "1               8  Tortoiseshell    Male   907  \n",
       "2               9         Orange    Male   732  \n",
       "3               7           Gray  Female   464  \n",
       "4               7  Tortoiseshell  Female   451  \n",
       "...           ...            ...     ...   ...  \n",
       "996             5        Pointed  Female   339  \n",
       "997             9          Cream    Male   659  \n",
       "998             3        Bicolor  Female   124  \n",
       "999             8          Black    Male   226  \n",
       "1000            5         orange    male  1000  \n",
       "\n",
       "[1001 rows x 9 columns]>"
      ]
     },
     "execution_count": 64,
     "metadata": {},
     "output_type": "execute_result"
    }
   ],
   "source": [
    "import pandas as pd\n",
    "df = pd.read_csv('cats - cats.csv')\n",
    "\n",
    "df.loc[len(df)] = [0,0,0,\"orrange\" , 3 , 5 ,\"orange\", \"male\", len(df)]\n"
   ]
  },
  {
   "cell_type": "code",
   "execution_count": null,
   "id": "2472877a",
   "metadata": {},
   "outputs": [],
   "source": []
  },
  {
   "cell_type": "code",
   "execution_count": null,
   "id": "e0705a9c",
   "metadata": {},
   "outputs": [],
   "source": []
  },
  {
   "cell_type": "code",
   "execution_count": null,
   "id": "3899721a",
   "metadata": {},
   "outputs": [],
   "source": []
  }
 ],
 "metadata": {
  "kernelspec": {
   "display_name": "Python 3 (ipykernel)",
   "language": "python",
   "name": "python3"
  },
  "language_info": {
   "codemirror_mode": {
    "name": "ipython",
    "version": 3
   },
   "file_extension": ".py",
   "mimetype": "text/x-python",
   "name": "python",
   "nbconvert_exporter": "python",
   "pygments_lexer": "ipython3",
   "version": "3.9.13"
  }
 },
 "nbformat": 4,
 "nbformat_minor": 5
}
