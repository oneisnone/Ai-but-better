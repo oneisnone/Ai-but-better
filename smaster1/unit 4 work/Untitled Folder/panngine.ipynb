{
 "cells": [
  {
   "cell_type": "code",
   "execution_count": 8,
   "id": "1a5cfe5e",
   "metadata": {},
   "outputs": [
    {
     "name": "stdout",
     "output_type": "stream",
     "text": [
      "<class 'pandas.core.frame.DataFrame'>\n",
      "RangeIndex: 344 entries, 0 to 343\n",
      "Data columns (total 5 columns):\n",
      " #   Column               Non-Null Count  Dtype  \n",
      "---  ------               --------------  -----  \n",
      " 0   ï»¿culmen_length_mm  342 non-null    float64\n",
      " 1   culmen_depth_mm      342 non-null    float64\n",
      " 2   flipper_length_mm    342 non-null    float64\n",
      " 3   body_mass_g          342 non-null    float64\n",
      " 4   sex                  335 non-null    object \n",
      "dtypes: float64(4), object(1)\n",
      "memory usage: 13.6+ KB\n"
     ]
    }
   ],
   "source": [
    "import requests\n",
    "import pandas as pd\n",
    "import seaborn as sns\n",
    "import matplotlib.pyplot as plt\n",
    "import numpy as np\n",
    "df = pd.read_csv('penguins (1).csv' ,encoding='windows-1252')\n",
    "df.info()"
   ]
  },
  {
   "cell_type": "code",
   "execution_count": 9,
   "id": "457c3bbd",
   "metadata": {},
   "outputs": [
    {
     "data": {
      "text/html": [
       "<div>\n",
       "<style scoped>\n",
       "    .dataframe tbody tr th:only-of-type {\n",
       "        vertical-align: middle;\n",
       "    }\n",
       "\n",
       "    .dataframe tbody tr th {\n",
       "        vertical-align: top;\n",
       "    }\n",
       "\n",
       "    .dataframe thead th {\n",
       "        text-align: right;\n",
       "    }\n",
       "</style>\n",
       "<table border=\"1\" class=\"dataframe\">\n",
       "  <thead>\n",
       "    <tr style=\"text-align: right;\">\n",
       "      <th></th>\n",
       "      <th>ï»¿culmen_length_mm</th>\n",
       "      <th>culmen_depth_mm</th>\n",
       "      <th>flipper_length_mm</th>\n",
       "      <th>body_mass_g</th>\n",
       "      <th>sex</th>\n",
       "    </tr>\n",
       "  </thead>\n",
       "  <tbody>\n",
       "    <tr>\n",
       "      <th>0</th>\n",
       "      <td>39.1</td>\n",
       "      <td>18.7</td>\n",
       "      <td>181.0</td>\n",
       "      <td>3750.0</td>\n",
       "      <td>MALE</td>\n",
       "    </tr>\n",
       "    <tr>\n",
       "      <th>1</th>\n",
       "      <td>39.5</td>\n",
       "      <td>17.4</td>\n",
       "      <td>186.0</td>\n",
       "      <td>3800.0</td>\n",
       "      <td>FEMALE</td>\n",
       "    </tr>\n",
       "    <tr>\n",
       "      <th>2</th>\n",
       "      <td>40.3</td>\n",
       "      <td>18.0</td>\n",
       "      <td>195.0</td>\n",
       "      <td>3250.0</td>\n",
       "      <td>FEMALE</td>\n",
       "    </tr>\n",
       "    <tr>\n",
       "      <th>4</th>\n",
       "      <td>36.7</td>\n",
       "      <td>19.3</td>\n",
       "      <td>193.0</td>\n",
       "      <td>3450.0</td>\n",
       "      <td>FEMALE</td>\n",
       "    </tr>\n",
       "    <tr>\n",
       "      <th>5</th>\n",
       "      <td>39.3</td>\n",
       "      <td>20.6</td>\n",
       "      <td>190.0</td>\n",
       "      <td>3650.0</td>\n",
       "      <td>MALE</td>\n",
       "    </tr>\n",
       "    <tr>\n",
       "      <th>...</th>\n",
       "      <td>...</td>\n",
       "      <td>...</td>\n",
       "      <td>...</td>\n",
       "      <td>...</td>\n",
       "      <td>...</td>\n",
       "    </tr>\n",
       "    <tr>\n",
       "      <th>338</th>\n",
       "      <td>47.2</td>\n",
       "      <td>13.7</td>\n",
       "      <td>214.0</td>\n",
       "      <td>4925.0</td>\n",
       "      <td>FEMALE</td>\n",
       "    </tr>\n",
       "    <tr>\n",
       "      <th>340</th>\n",
       "      <td>46.8</td>\n",
       "      <td>14.3</td>\n",
       "      <td>215.0</td>\n",
       "      <td>4850.0</td>\n",
       "      <td>FEMALE</td>\n",
       "    </tr>\n",
       "    <tr>\n",
       "      <th>341</th>\n",
       "      <td>50.4</td>\n",
       "      <td>15.7</td>\n",
       "      <td>222.0</td>\n",
       "      <td>5750.0</td>\n",
       "      <td>MALE</td>\n",
       "    </tr>\n",
       "    <tr>\n",
       "      <th>342</th>\n",
       "      <td>45.2</td>\n",
       "      <td>14.8</td>\n",
       "      <td>212.0</td>\n",
       "      <td>5200.0</td>\n",
       "      <td>FEMALE</td>\n",
       "    </tr>\n",
       "    <tr>\n",
       "      <th>343</th>\n",
       "      <td>49.9</td>\n",
       "      <td>16.1</td>\n",
       "      <td>213.0</td>\n",
       "      <td>5400.0</td>\n",
       "      <td>MALE</td>\n",
       "    </tr>\n",
       "  </tbody>\n",
       "</table>\n",
       "<p>342 rows × 5 columns</p>\n",
       "</div>"
      ],
      "text/plain": [
       "     ï»¿culmen_length_mm  culmen_depth_mm  flipper_length_mm  body_mass_g  \\\n",
       "0                   39.1             18.7              181.0       3750.0   \n",
       "1                   39.5             17.4              186.0       3800.0   \n",
       "2                   40.3             18.0              195.0       3250.0   \n",
       "4                   36.7             19.3              193.0       3450.0   \n",
       "5                   39.3             20.6              190.0       3650.0   \n",
       "..                   ...              ...                ...          ...   \n",
       "338                 47.2             13.7              214.0       4925.0   \n",
       "340                 46.8             14.3              215.0       4850.0   \n",
       "341                 50.4             15.7              222.0       5750.0   \n",
       "342                 45.2             14.8              212.0       5200.0   \n",
       "343                 49.9             16.1              213.0       5400.0   \n",
       "\n",
       "        sex  \n",
       "0      MALE  \n",
       "1    FEMALE  \n",
       "2    FEMALE  \n",
       "4    FEMALE  \n",
       "5      MALE  \n",
       "..      ...  \n",
       "338  FEMALE  \n",
       "340  FEMALE  \n",
       "341    MALE  \n",
       "342  FEMALE  \n",
       "343    MALE  \n",
       "\n",
       "[342 rows x 5 columns]"
      ]
     },
     "execution_count": 9,
     "metadata": {},
     "output_type": "execute_result"
    }
   ],
   "source": [
    "df.dropna( axis=0, how=\"all\")"
   ]
  },
  {
   "cell_type": "code",
   "execution_count": 14,
   "id": "6f2b9ccc",
   "metadata": {},
   "outputs": [
    {
     "name": "stderr",
     "output_type": "stream",
     "text": [
      "C:\\Users\\csorensen\\AppData\\Local\\Temp\\ipykernel_3744\\173153303.py:12: RuntimeWarning: Mean of empty slice.\n",
      "  new_centroids = np.array([X[labels == i].mean(axis=0) for i in range(k)])\n",
      "C:\\ProgramData\\Anaconda3\\lib\\site-packages\\numpy\\core\\_methods.py:181: RuntimeWarning: invalid value encountered in true_divide\n",
      "  ret = um.true_divide(\n"
     ]
    },
    {
     "data": {
      "image/png": "[encoded data removed]",
      "text/plain": [
       "<Figure size 640x480 with 1 Axes>"
      ]
     },
     "metadata": {},
     "output_type": "display_data"
    }
   ],
   "source": [
    "# Step 1: Define K-means functions (same as before)\n",
    "def initialize_centroids(X, k):\n",
    "    np.random.seed(42)  # For reproducibility\n",
    "    random_indices = np.random.choice(len(X), size=k, replace=False)\n",
    "    return X[random_indices]\n",
    "\n",
    "def assign_clusters(X, centroids):\n",
    "    distances = np.linalg.norm(X[:, np.newaxis] - centroids, axis=2)\n",
    "    return np.argmin(distances, axis=1)\n",
    "\n",
    "def update_centroids(X, labels, k):\n",
    "    new_centroids = np.array([X[labels == i].mean(axis=0) for i in range(k)])\n",
    "    return new_centroids\n",
    "\n",
    "def has_converged(centroids, new_centroids, tolerance=1e-4):\n",
    "    return np.all(np.linalg.norm(centroids - new_centroids, axis=1) < tolerance)\n",
    "\n",
    "def kmeans(X, k, max_iterations=300, tolerance=1e-4):\n",
    "    centroids = initialize_centroids(X, k)\n",
    "    \n",
    "    for _ in range(max_iterations):\n",
    "        labels = assign_clusters(X, centroids)\n",
    "        new_centroids = update_centroids(X, labels, k)\n",
    "        \n",
    "        if has_converged(centroids, new_centroids, tolerance):\n",
    "            break\n",
    "        \n",
    "        centroids = new_centroids\n",
    "    \n",
    "    return centroids, labels\n",
    "X = df[[ 'body_mass_g',\"flipper_length_mm\"]].values  # Selecting columns you want to use for clustering\n",
    "\n",
    "# Step 4: Apply K-means clustering\n",
    "k = 3  # Number of clusters\n",
    "centroids, labels = kmeans(X, k)\n",
    "\n",
    "# Step 5: Add cluster labels to the DataFrame (optional)\n",
    "df['Cluster'] = labels\n",
    "\n",
    "# Step 6: Visualize the result (only works well for 2D data)\n",
    "plt.scatter(df['body_mass_g'],df[\"flipper_length_mm\"], c=df['Cluster'], cmap='viridis')\n",
    "plt.scatter(centroids[:, 0], centroids[:, 1], s=300, c='red', marker='X')\n",
    "plt.title(f\"K-means Clustering with {k} Clusters\")\n",
    "plt.xlabel('body_mass_g')\n",
    "plt.ylabel('flipper_length_mm')\n",
    "plt.show()"
   ]
  },
  {
   "cell_type": "code",
   "execution_count": 18,
   "id": "05bacf36",
   "metadata": {},
   "outputs": [],
   "source": [
    "x2 = random_state=42"
   ]
  },
  {
   "cell_type": "code",
   "execution_count": 19,
   "id": "a45f34ba",
   "metadata": {},
   "outputs": [
    {
     "name": "stdout",
     "output_type": "stream",
     "text": [
      "42\n"
     ]
    }
   ],
   "source": [
    "print(x2)"
   ]
  },
  {
   "cell_type": "code",
   "execution_count": null,
   "id": "588b7038",
   "metadata": {},
   "outputs": [],
   "source": []
  }
 ],
 "metadata": {
  "kernelspec": {
   "display_name": "Python 3 (ipykernel)",
   "language": "python",
   "name": "python3"
  },
  "language_info": {
   "codemirror_mode": {
    "name": "ipython",
    "version": 3
   },
   "file_extension": ".py",
   "mimetype": "text/x-python",
   "name": "python",
   "nbconvert_exporter": "python",
   "pygments_lexer": "ipython3",
   "version": "3.9.13"
  }
 },
 "nbformat": 4,
 "nbformat_minor": 5
}
