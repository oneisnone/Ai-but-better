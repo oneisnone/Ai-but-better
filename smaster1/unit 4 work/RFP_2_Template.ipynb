{
 "cells": [
  {
   "cell_type": "markdown",
   "id": "1b940825",
   "metadata": {},
   "source": [
    "# RFP: Targeted Taco Bell Ads\n",
    "\n",
    "## Project Overview\n",
    "You are invited to submit a proposal that answers the following question:\n",
    "\n",
    "### What ad will you create and why?\n",
    "\n",
    "*Please submit your proposal by **1/30/25 at 11:59 PM**.*"
   ]
  },
  {
   "cell_type": "markdown",
   "id": "968a85f0",
   "metadata": {},
   "source": [
    "## Required Proposal Components\n",
    "\n",
    "### 1. Data Description\n",
    "In the code cell below, read in the data you will need to train and test your model. Call `info()` once you have read the data into a dataframe. Consider using some or all of the following sources:\n",
    "- [Customer Demographics](https://drive.google.com/file/d/1HK42Oa3bhhRDWR1y1wVBDAQ2tbNwg1gS/view?usp=sharing)\n",
    "- [Ad Response Data](https://drive.google.com/file/d/1cuLqXPNKhP66m5BP9BAlci2G--Vopt-Z/view?usp=sharing)\n",
    "\n",
    "*Note, a level 5 dataset combines these two data sets.*"
   ]
  },
  {
   "cell_type": "code",
   "execution_count": 14,
   "id": "08c1688a",
   "metadata": {
    "scrolled": true
   },
   "outputs": [
    {
     "data": {
      "text/html": [
       "<div>\n",
       "<style scoped>\n",
       "    .dataframe tbody tr th:only-of-type {\n",
       "        vertical-align: middle;\n",
       "    }\n",
       "\n",
       "    .dataframe tbody tr th {\n",
       "        vertical-align: top;\n",
       "    }\n",
       "\n",
       "    .dataframe thead th {\n",
       "        text-align: right;\n",
       "    }\n",
       "</style>\n",
       "<table border=\"1\" class=\"dataframe\">\n",
       "  <thead>\n",
       "    <tr style=\"text-align: right;\">\n",
       "      <th></th>\n",
       "      <th>customer_id</th>\n",
       "      <th>state</th>\n",
       "      <th>sex</th>\n",
       "      <th>age</th>\n",
       "      <th>occupation</th>\n",
       "      <th>family_size</th>\n",
       "      <th>income</th>\n",
       "      <th>ad_type</th>\n",
       "      <th>ad_medium</th>\n",
       "      <th>ad_response</th>\n",
       "      <th>items_purchased</th>\n",
       "      <th>drinks_purchased</th>\n",
       "    </tr>\n",
       "  </thead>\n",
       "  <tbody>\n",
       "    <tr>\n",
       "      <th>0</th>\n",
       "      <td>9167</td>\n",
       "      <td>MO</td>\n",
       "      <td>F</td>\n",
       "      <td>42.0</td>\n",
       "      <td>Food Service</td>\n",
       "      <td>1</td>\n",
       "      <td>40343</td>\n",
       "      <td>DISCOUNT-20%</td>\n",
       "      <td>Instagram photo ad</td>\n",
       "      <td>True</td>\n",
       "      <td>['mexican pizza', 'chicken quesadilla']</td>\n",
       "      <td>['mountain dew', 'mug root beer']</td>\n",
       "    </tr>\n",
       "    <tr>\n",
       "      <th>1</th>\n",
       "      <td>531</td>\n",
       "      <td>MI</td>\n",
       "      <td>F</td>\n",
       "      <td>36.0</td>\n",
       "      <td>Retail</td>\n",
       "      <td>4</td>\n",
       "      <td>41730</td>\n",
       "      <td>DISCOUNT-10%</td>\n",
       "      <td>Instagram photo ad</td>\n",
       "      <td>False</td>\n",
       "      <td>['steak garlic nacho fries', 'crunchy taco', '...</td>\n",
       "      <td>['mug root beer', 'iced tea', 'starry', 'iced ...</td>\n",
       "    </tr>\n",
       "    <tr>\n",
       "      <th>2</th>\n",
       "      <td>2265</td>\n",
       "      <td>CA</td>\n",
       "      <td>F</td>\n",
       "      <td>25.0</td>\n",
       "      <td>IT</td>\n",
       "      <td>0</td>\n",
       "      <td>84024</td>\n",
       "      <td>DISCOUNT-20%</td>\n",
       "      <td>15 sec YouTube ad</td>\n",
       "      <td>False</td>\n",
       "      <td>['chicken quesadilla']</td>\n",
       "      <td>['mug root beer']</td>\n",
       "    </tr>\n",
       "    <tr>\n",
       "      <th>3</th>\n",
       "      <td>7550</td>\n",
       "      <td>VA</td>\n",
       "      <td>M</td>\n",
       "      <td>38.0</td>\n",
       "      <td>Food Service</td>\n",
       "      <td>2</td>\n",
       "      <td>38990</td>\n",
       "      <td>BOGO - Garlic Steak Nacho Fries</td>\n",
       "      <td>15 sec YouTube ad</td>\n",
       "      <td>True</td>\n",
       "      <td>['steak garlic nacho fries', 'steak garlic nac...</td>\n",
       "      <td>['pepsi', 'diet pepsi', 'diet pepsi']</td>\n",
       "    </tr>\n",
       "    <tr>\n",
       "      <th>4</th>\n",
       "      <td>5334</td>\n",
       "      <td>MT</td>\n",
       "      <td>M</td>\n",
       "      <td>35.0</td>\n",
       "      <td>Food Service</td>\n",
       "      <td>1</td>\n",
       "      <td>33400</td>\n",
       "      <td>DISCOUNT-20%</td>\n",
       "      <td>15 sec YouTube ad</td>\n",
       "      <td>False</td>\n",
       "      <td>['spicy potato soft taco', 'nachos bellgrande']</td>\n",
       "      <td>['gatorade', 'baja blast']</td>\n",
       "    </tr>\n",
       "  </tbody>\n",
       "</table>\n",
       "</div>"
      ],
      "text/plain": [
       "   customer_id state sex   age    occupation  family_size  income  \\\n",
       "0         9167    MO   F  42.0  Food Service            1   40343   \n",
       "1          531    MI   F  36.0        Retail            4   41730   \n",
       "2         2265    CA   F  25.0            IT            0   84024   \n",
       "3         7550    VA   M  38.0  Food Service            2   38990   \n",
       "4         5334    MT   M  35.0  Food Service            1   33400   \n",
       "\n",
       "                           ad_type           ad_medium  ad_response  \\\n",
       "0                     DISCOUNT-20%  Instagram photo ad         True   \n",
       "1                     DISCOUNT-10%  Instagram photo ad        False   \n",
       "2                     DISCOUNT-20%   15 sec YouTube ad        False   \n",
       "3  BOGO - Garlic Steak Nacho Fries   15 sec YouTube ad         True   \n",
       "4                     DISCOUNT-20%   15 sec YouTube ad        False   \n",
       "\n",
       "                                     items_purchased  \\\n",
       "0            ['mexican pizza', 'chicken quesadilla']   \n",
       "1  ['steak garlic nacho fries', 'crunchy taco', '...   \n",
       "2                             ['chicken quesadilla']   \n",
       "3  ['steak garlic nacho fries', 'steak garlic nac...   \n",
       "4    ['spicy potato soft taco', 'nachos bellgrande']   \n",
       "\n",
       "                                    drinks_purchased  \n",
       "0                  ['mountain dew', 'mug root beer']  \n",
       "1  ['mug root beer', 'iced tea', 'starry', 'iced ...  \n",
       "2                                  ['mug root beer']  \n",
       "3              ['pepsi', 'diet pepsi', 'diet pepsi']  \n",
       "4                         ['gatorade', 'baja blast']  "
      ]
     },
     "execution_count": 14,
     "metadata": {},
     "output_type": "execute_result"
    }
   ],
   "source": [
    "import pandas as pd\n",
    "import seaborn as sns\n",
    "from sklearn.metrics import silhouette_score\n",
    "from sklearn.model_selection import train_test_split\n",
    "from scipy.spatial.distance import cdist\n",
    "from sklearn.cluster import KMeans\n",
    "customer_df = pd.read_csv(\"customer_data.csv\")\n",
    "ad_df = pd.read_csv(\"ad_data.csv\")\n",
    "df = customer_df.merge(ad_df, on='customer_id')\n",
    "df.head()"
   ]
  },
  {
   "cell_type": "markdown",
   "id": "880ff05f",
   "metadata": {},
   "source": [
    "### 2. Training Your Model\n",
    "In the cell seen below, write the code you need to train a K-means clustering model. Make sure you describe the center of each cluster found.\n",
    "\n",
    "*Note, level 5 work uses at least 3 features to train a K-means model using only the standard Python library and Pandas. A level 4 uses external libraries like scikit or numpy.*"
   ]
  },
  {
   "cell_type": "code",
   "execution_count": 13,
   "id": "a87a9144",
   "metadata": {},
   "outputs": [
    {
     "data": {
      "text/plain": [
       "<AxesSubplot:>"
      ]
     },
     "execution_count": 13,
     "metadata": {},
     "output_type": "execute_result"
    },
    {
     "data": {
      "image/png": "[encoded data removed]",
      "text/plain": [
       "<Figure size 640x480 with 1 Axes>"
      ]
     },
     "metadata": {},
     "output_type": "display_data"
    }
   ],
   "source": [
    "\n",
    "tdf, _ = train_test_split(df, test_size=0.3, random_state=42)\n",
    "tdf = tdf[[\"income\", \"age\", \"family_size\"]]\n",
    "model = KMeans(n_clusters=9)\n",
    "model.fit(tdf)\n",
    "\n",
    "closser = model.cluster_centers_\n",
    "sns.scatterplot(data= closser)"
   ]
  },
  {
   "cell_type": "markdown",
   "id": "0fe52f67",
   "metadata": {},
   "source": [
    "#### Don't forget to describe the centers of the clusters you found."
   ]
  },
  {
   "cell_type": "markdown",
   "id": "9180498e",
   "metadata": {},
   "source": [
    "# 3. Testing Your Model\n",
    "In the cell seen below, write the code you need to test your K-means model. Then, interpret your findings.\n",
    "\n",
    "*Note, level 5 testing uses both an elbow plot and a silhouette score to evaluate your model. Level 4 uses one or the other.*"
   ]
  },
  {
   "cell_type": "code",
   "execution_count": 15,
   "id": "24f8b990",
   "metadata": {},
   "outputs": [
    {
     "data": {
      "text/plain": [
       "0.5833429478096014"
      ]
     },
     "execution_count": 15,
     "metadata": {},
     "output_type": "execute_result"
    },
    {
     "data": {
      "image/png": "[encoded data removed]",
      "text/plain": [
       "<Figure size 640x480 with 1 Axes>"
      ]
     },
     "metadata": {},
     "output_type": "display_data"
    }
   ],
   "source": [
    "k_values = range(1, 11)\n",
    "wcss = []\n",
    "for k in k_values:\n",
    "    kmeans = KMeans(n_clusters=k, random_state=42)\n",
    "    kmeans.fit(tdf)\n",
    "    wcss.append(kmeans.inertia_)\n",
    "\n",
    "\n",
    "wcss_df = pd.DataFrame({'K': k_values, 'WCSS': wcss})\n",
    "\n",
    "sns.scatterplot(data= wcss_df, y=\"WCSS\",x= 'K')\n",
    "silhouette_score(tdf, model.labels_)"
   ]
  },
  {
   "cell_type": "markdown",
   "id": "32a8c369",
   "metadata": {},
   "source": [
    "#### thet the eldow plot showes where it most effecint being around 3 this can be seen also seen in the silhouette score as it saying that having 3 cluserts give it a score of .58"
   ]
  },
  {
   "cell_type": "markdown",
   "id": "343eb3f7",
   "metadata": {},
   "source": [
    "### 4. Final Answer\n",
    "\n",
    "In the first cell seen below, describe the cluster you have chosen to target with your ad, making sure to describe the type of ad they were the most likely to respond to. Then, use software of your choosing to create the ad you will need to target this cluster. You do not need to create an ad for both the nacho fries and the Baja Blast. You can focus on one if that's what your cluster cares about most.\n",
    "\n",
    "In the second cell seen below, include a link to your ad.\n",
    "\n",
    "*Note, a level 5 ad uses the medium (static image or video) the cluster most likely responded to.* "
   ]
  },
  {
   "cell_type": "markdown",
   "id": "25533722",
   "metadata": {},
   "source": [
    "####  the data of the cutering model show the main target for the add whould be people that are old with that are gernaly in the middel class.  this can be seen with  the arge cluter of the hierrer age. this is also seen with income as thire is a learge monjaaroy of lowere class it"
   ]
  },
  {
   "cell_type": "markdown",
   "id": "e29adde2",
   "metadata": {},
   "source": [
    "#### Link your ad here. https://docs.google.com/document/d/1Vx_qpcpn87DjEQ97VVuLODXz15UZXS_7a3RlMjUNnc0/edit?usp=sharing"
   ]
  }
 ],
 "metadata": {
  "kernelspec": {
   "display_name": "Python 3 (ipykernel)",
   "language": "python",
   "name": "python3"
  },
  "language_info": {
   "codemirror_mode": {
    "name": "ipython",
    "version": 3
   },
   "file_extension": ".py",
   "mimetype": "text/x-python",
   "name": "python",
   "nbconvert_exporter": "python",
   "pygments_lexer": "ipython3",
   "version": "3.9.13"
  }
 },
 "nbformat": 4,
 "nbformat_minor": 5
}
