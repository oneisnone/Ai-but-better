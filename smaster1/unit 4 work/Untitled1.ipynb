{
 "cells": [
  {
   "cell_type": "code",
   "execution_count": 41,
   "id": "8264ff4f",
   "metadata": {},
   "outputs": [
    {
     "ename": "ValueError",
     "evalue": "operands could not be broadcast together with shapes (104,2) (104,) ",
     "output_type": "error",
     "traceback": [
      "\u001b[1;31m---------------------------------------------------------------------------\u001b[0m",
      "\u001b[1;31mValueError\u001b[0m                                Traceback (most recent call last)",
      "\u001b[1;32m~\\AppData\\Local\\Temp\\ipykernel_12016\\788148154.py\u001b[0m in \u001b[0;36m<module>\u001b[1;34m\u001b[0m\n\u001b[0;32m     14\u001b[0m \u001b[0msum_y\u001b[0m \u001b[1;33m=\u001b[0m \u001b[0my\u001b[0m\u001b[1;33m.\u001b[0m\u001b[0msum\u001b[0m\u001b[1;33m(\u001b[0m\u001b[1;33m)\u001b[0m\u001b[1;33m\u001b[0m\u001b[1;33m\u001b[0m\u001b[0m\n\u001b[0;32m     15\u001b[0m \u001b[0msum_xx\u001b[0m \u001b[1;33m=\u001b[0m \u001b[1;33m(\u001b[0m\u001b[0mX\u001b[0m \u001b[1;33m**\u001b[0m \u001b[1;36m2\u001b[0m\u001b[1;33m)\u001b[0m\u001b[1;33m.\u001b[0m\u001b[0msum\u001b[0m\u001b[1;33m(\u001b[0m\u001b[1;33m)\u001b[0m\u001b[1;33m\u001b[0m\u001b[1;33m\u001b[0m\u001b[0m\n\u001b[1;32m---> 16\u001b[1;33m \u001b[0msum_xy\u001b[0m \u001b[1;33m=\u001b[0m \u001b[1;33m(\u001b[0m\u001b[0mX\u001b[0m \u001b[1;33m*\u001b[0m \u001b[0my\u001b[0m\u001b[1;33m)\u001b[0m\u001b[1;33m.\u001b[0m\u001b[0msum\u001b[0m\u001b[1;33m(\u001b[0m\u001b[1;33m)\u001b[0m\u001b[1;33m\u001b[0m\u001b[1;33m\u001b[0m\u001b[0m\n\u001b[0m\u001b[0;32m     17\u001b[0m \u001b[1;33m\u001b[0m\u001b[0m\n\u001b[0;32m     18\u001b[0m \u001b[0mprint\u001b[0m\u001b[1;33m(\u001b[0m\u001b[0msum_x\u001b[0m\u001b[1;33m)\u001b[0m\u001b[1;33m\u001b[0m\u001b[1;33m\u001b[0m\u001b[0m\n",
      "\u001b[1;31mValueError\u001b[0m: operands could not be broadcast together with shapes (104,2) (104,) "
     ]
    }
   ],
   "source": [
    "import requests\n",
    "import pandas as pd\n",
    "import seaborn as sns\n",
    "import matplotlib.pyplot as plt\n",
    "df = pd.read_csv('possum.csv' ,encoding='windows-1252')\n",
    "df.head()\n",
    "from sklearn.model_selection import train_test_split\n",
    "\n",
    "X = df[['skullw', 'belly']].values\n",
    "y = df['age'].values\n",
    "X_train, X_test, y_train, y_test = train_test_split(X, y, test_size=0.2, random_state=42)\n",
    "n = len(X)  \n",
    "sum_x = X.sum()\n",
    "sum_y = y.sum()  \n",
    "sum_xx = (X ** 2).sum() \n",
    "sum_xy = (X * y).sum() \n",
    "\n",
    "print(sum_x)"
   ]
  },
  {
   "cell_type": "code",
   "execution_count": 35,
   "id": "633d0064",
   "metadata": {},
   "outputs": [
    {
     "data": {
      "text/plain": [
       "case          104\n",
       "site            7\n",
       "Pop         other\n",
       "sex             f\n",
       "age           3.0\n",
       "hdlngth      93.6\n",
       "skullw       59.9\n",
       "totlngth     89.0\n",
       "taill        40.0\n",
       "footlgth     67.6\n",
       "earconch     46.0\n",
       "eye          14.8\n",
       "chest        28.5\n",
       "belly        33.5\n",
       "Name: 103, dtype: object"
      ]
     },
     "execution_count": 35,
     "metadata": {},
     "output_type": "execute_result"
    }
   ],
   "source": [
    "df.loc[103]"
   ]
  },
  {
   "cell_type": "code",
   "execution_count": 42,
   "id": "f45f853c",
   "metadata": {},
   "outputs": [
    {
     "name": "stdout",
     "output_type": "stream",
     "text": [
      "Slope (β1): 0        NaN\n",
      "1        NaN\n",
      "2        NaN\n",
      "3        NaN\n",
      "4        NaN\n",
      "          ..\n",
      "101      NaN\n",
      "102      NaN\n",
      "103      NaN\n",
      "belly    NaN\n",
      "skullw   NaN\n",
      "Length: 106, dtype: float64\n",
      "Intercept (β0): 0        NaN\n",
      "1        NaN\n",
      "2        NaN\n",
      "3        NaN\n",
      "4        NaN\n",
      "          ..\n",
      "101      NaN\n",
      "102      NaN\n",
      "103      NaN\n",
      "belly    NaN\n",
      "skullw   NaN\n",
      "Length: 106, dtype: float64\n"
     ]
    }
   ],
   "source": [
    "beta_1 = (n * sum_xy - sum_x * sum_y) / (n * sum_xx - sum_x**2)\n",
    "beta_0 = (sum_y - beta_1 * sum_x) / n\n",
    "print(f\"Slope (β1): {beta_1}\")\n",
    "print(f\"Intercept (β0): {beta_0}\")"
   ]
  },
  {
   "cell_type": "code",
   "execution_count": null,
   "id": "e8f3abf1",
   "metadata": {},
   "outputs": [],
   "source": []
  }
 ],
 "metadata": {
  "kernelspec": {
   "display_name": "Python 3 (ipykernel)",
   "language": "python",
   "name": "python3"
  },
  "language_info": {
   "codemirror_mode": {
    "name": "ipython",
    "version": 3
   },
   "file_extension": ".py",
   "mimetype": "text/x-python",
   "name": "python",
   "nbconvert_exporter": "python",
   "pygments_lexer": "ipython3",
   "version": "3.9.13"
  }
 },
 "nbformat": 4,
 "nbformat_minor": 5
}
