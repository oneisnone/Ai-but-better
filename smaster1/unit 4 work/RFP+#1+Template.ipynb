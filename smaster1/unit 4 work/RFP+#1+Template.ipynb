{
 "cells": [
  {
   "cell_type": "markdown",
   "id": "1b940825",
   "metadata": {},
   "source": [
    "# RFP: Betting on the Bachelor\n",
    "\n",
    "## Project Overview\n",
    "You are invited to submit a proposal that answers the following question:\n",
    "\n",
    "### Who will win season 29 of the Bachelor?\n",
    "\n",
    "*All proposals must be submitted by **1/15/25 at 11:59 PM**.*"
   ]
  },
  {
   "cell_type": "markdown",
   "id": "968a85f0",
   "metadata": {},
   "source": [
    "## Required Proposal Components\n",
    "\n",
    "### 1. Data Description\n",
    "In the code cell below, read in the data you plan on using to train and test your model. Call `info()` once you have read the data into a dataframe. Consider using some or all of the following sources:\n",
    "- [Scrape Fandom Wikis](https://bachelor-nation.fandom.com/wiki/The_Bachelor) or [the official Bachelor website]('https://bachelornation.com/shows/the-bachelor/')\n",
    "- [Ask ChatGPT to genereate it](https://chatgpt.com/)\n",
    "- [Read in csv files like this](https://www.kaggle.com/datasets/brianbgonz/the-bachelor-contestants?select=contestants.csv)\n",
    "\n",
    "*Note, a level 5 dataset contains at least 1000 rows of non-null data. A level 4 contains at least 500 rows of non-null data.*"
   ]
  },
  {
   "cell_type": "code",
   "execution_count": 1,
   "id": "08c1688a",
   "metadata": {},
   "outputs": [
    {
     "data": {
      "text/plain": [
       "0       True\n",
       "1      False\n",
       "2      False\n",
       "3      False\n",
       "4      False\n",
       "       ...  \n",
       "574    False\n",
       "575    False\n",
       "576    False\n",
       "577    False\n",
       "578    False\n",
       "Name: Winner, Length: 579, dtype: bool"
      ]
     },
     "execution_count": 1,
     "metadata": {},
     "output_type": "execute_result"
    }
   ],
   "source": [
    "import requests\n",
    "import pandas as pd\n",
    "import seaborn as sns\n",
    "import matplotlib.pyplot as plt\n",
    "df = pd.read_csv('bachelor-contestants.csv' ,encoding='windows-1252')\n",
    "df[\"Winner\"] == 1"
   ]
  },
  {
   "cell_type": "markdown",
   "id": "880ff05f",
   "metadata": {},
   "source": [
    "### 2. Training Your Model\n",
    "In the cell seen below, write the code you need to train a linear regression model. Make sure you display the equation of the plane that best fits your chosen data at the end of your program. \n",
    "\n",
    "*Note, level 5 work trains a model using only the standard Python library and Pandas. A level 5 model is trained with at least two features, where one of the features begins as a categorical value (e.g. occupation, hometown, etc.). A level 4 uses external libraries like scikit or numpy.*"
   ]
  },
  {
   "cell_type": "code",
   "execution_count": 2,
   "id": "a87a9144",
   "metadata": {},
   "outputs": [
    {
     "name": "stdout",
     "output_type": "stream",
     "text": [
      "     Job Number\n",
      "0             1\n",
      "1             2\n",
      "2             3\n",
      "3             1\n",
      "4             4\n",
      "..          ...\n",
      "574          12\n",
      "575          10\n",
      "576          10\n",
      "577          10\n",
      "578           1\n",
      "\n",
      "[579 rows x 1 columns]\n",
      "0      1.0\n",
      "1      0.0\n",
      "2      0.0\n",
      "3      0.0\n",
      "4      0.0\n",
      "      ... \n",
      "574    0.0\n",
      "575    0.0\n",
      "576    0.0\n",
      "577    0.0\n",
      "578    0.0\n",
      "Name: Winner, Length: 579, dtype: float64\n",
      "Slope (β1): 0.0010791089407160507\n",
      "Intercept (β0): 0.02402448551759269\n"
     ]
    },
    {
     "data": {
      "text/plain": [
       "<AxesSubplot:xlabel='Job Number', ylabel='Winner'>"
      ]
     },
     "execution_count": 2,
     "metadata": {},
     "output_type": "execute_result"
    },
    {
     "data": {
      "image/png": "[encoded data removed]",
      "text/plain": [
       "<Figure size 640x480 with 1 Axes>"
      ]
     },
     "metadata": {},
     "output_type": "display_data"
    }
   ],
   "source": [
    "# Train model here.\n",
    "# Don't forget to display the equation of the plane that best fits your data!\n",
    "job = [df[\"Function\"].unique()]\n",
    "job_to_number = {\n",
    "'Retail/Services/Entrepreneur': 1, 'Arts/Entertainment' : 2, 'Finance' : 3,\n",
    "        'Student' : 4, 'Legal' : 5, 'Real Estate' : 6, 'Education' : 7, 'Restaurant' : 8,\n",
    "        'Sales' : 9 , 'Medical' : 10, 'Marketing' : 11, 'Corporate' : 12, 'Transportation' : 13,\n",
    "        'Government' : 14 , 'Agriculture' : 15 , 'Misc' : 16 , 'Journalist'  : 17\n",
    "}\n",
    "\n",
    "df['Job Number'] = df['Function'].map(job_to_number)\n",
    "X = df[['Job Number']]\n",
    "y = df['Winner'] \n",
    "print(X)\n",
    "print(y)\n",
    "n = len(X)\n",
    "\n",
    "# Step 1: Calculate the necessary sums\n",
    "n = len(X)  # Number of data points\n",
    "sum_x = X['Job Number'].sum()  # Sum of all Job Numbers\n",
    "sum_y = y.sum()  # Sum of all Winner values\n",
    "sum_xx = (X['Job Number'] ** 2).sum()  # Sum of the squares of Job Numbers\n",
    "sum_xy = (X['Job Number'] * y).sum()  # Sum of the product of Job Number and Winner\n",
    "\n",
    "beta_1 = (n * sum_xy - sum_x * sum_y) / (n * sum_xx - sum_x**2)\n",
    "beta_0 = (sum_y - beta_1 * sum_x) / n\n",
    "print(f\"Slope (β1): {beta_1}\")\n",
    "print(f\"Intercept (β0): {beta_0}\")\n",
    "sns.regplot(x='Job Number', y='Winner', data=df, scatter_kws={'color': 'blue'}, line_kws={'color': 'red'})\n",
    "sns.barplot(x= 'Job Number', y='Winner', data=df )\n"
   ]
  },
  {
   "cell_type": "markdown",
   "id": "cfb2b903",
   "metadata": {},
   "source": [
    "### 3. Testing Your Model\n",
    "In the cell seen below, write the code you need to test your linear regression model. \n",
    "\n",
    "*Note, a model is considered a level 5 if it achieves at least 60% prediction accuracy or achieves an RMSE of 2 weeks or less.*"
   ]
  },
  {
   "cell_type": "code",
   "execution_count": 3,
   "id": "835c17e8",
   "metadata": {},
   "outputs": [
    {
     "name": "stdout",
     "output_type": "stream",
     "text": [
      "22\n",
      "MSE Job Number   NaN\n",
      "dtype: float64\n",
      "RMSE Job Number   NaN\n",
      "dtype: float64\n"
     ]
    }
   ],
   "source": [
    "X = df['Job Number']\n",
    "y_pred = pd.DataFrame(beta_0 + beta_1 * X, columns=[\"Job Number\"])\n",
    "why2 = []\n",
    "\n",
    "for i in range(len(y_pred)):\n",
    "    actual = df.loc[i, \"Winner\"] \n",
    "    predicted = y_pred.loc[i]\n",
    "    s2 = (actual - predicted) ** 2\n",
    "    why2.append(s2)\n",
    "print(df['Winner'].isna().sum())  # Number of NaN values in 'Winner'\n",
    "print(\"MSE\",(sum(why2)/len(why2)))\n",
    "print(\"RMSE\",(sum(why2)/len(why2)) ** .5 )"
   ]
  },
  {
   "cell_type": "markdown",
   "id": "343eb3f7",
   "metadata": {},
   "source": [
    "### 4. Final Answer\n",
    "\n",
    "In the first cell seen below, state the name of your predicted winner. \n",
    "In the second cell seen below, justify your prediction using an evaluation technique like RMSE or percent accuracy."
   ]
  },
  {
   "cell_type": "markdown",
   "id": "25533722",
   "metadata": {},
   "source": [
    "#### Kyleigh Henrich"
   ]
  },
  {
   "cell_type": "markdown",
   "id": "e29adde2",
   "metadata": {},
   "source": [
    "#### i dont know byut based  on the graph done on my traning it showed that retal had the most arury above them.  she is a retal manger. this in not accrute as my model broke trying to calulate the winner so eather its so accrite that it right 100% of the time or it goes to inf. i dont know hot mak"
   ]
  }
 ],
 "metadata": {
  "kernelspec": {
   "display_name": "Python 3 (ipykernel)",
   "language": "python",
   "name": "python3"
  },
  "language_info": {
   "codemirror_mode": {
    "name": "ipython",
    "version": 3
   },
   "file_extension": ".py",
   "mimetype": "text/x-python",
   "name": "python",
   "nbconvert_exporter": "python",
   "pygments_lexer": "ipython3",
   "version": "3.9.13"
  }
 },
 "nbformat": 4,
 "nbformat_minor": 5
}
