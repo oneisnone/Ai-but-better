{
 "cells": [
  {
   "cell_type": "code",
   "execution_count": 23,
   "id": "aacd8dd2",
   "metadata": {},
   "outputs": [
    {
     "name": "stdout",
     "output_type": "stream",
     "text": [
      "Jenny And The Fortune HunterbyCathy Gillen ThackerFirst published in 1994—2 editionsSomeone marked as Currently Reading 30 seconds agoBorrowListen\n",
      "Charlie and the Chocolate FactorybyRoald DahlFirst published in 1964—213 editionsSomeone marked as Currently Reading 39 seconds agoBorrowListen\n",
      "Garden Wigglers: Earthworms in Your Backyard (Backyard Bugs)byNancy LoewenFirst published in 2003—2 editionsSomeone marked as Want to Read 43 seconds agoBorrowListen\n",
      "Amazing AnimalsbyBetsy FrancoFirst published in 2002—1 editionSomeone marked as Want to Read 49 seconds agoBorrowListen\n",
      "Jets (Monster Machines)byDavid JefferisFirst published in 2001—4 editionsSomeone marked as Want to Read 1 minute agoBorrowListen\n",
      "Planting the Trees of Kenya: The Story of Wangari MaathaibyClaire A. NivolaFirst published in 2008—2 editionsSomeone marked as Want to Read 1 minute agoPreview OnlyPreview Book×Close\n",
      "Die with ZerobyBill PerkinsFirst published in 2020—6 editionsSomeone marked as Want to Read 1 minute agoNot in Library\n",
      "World Above the CloudsbyAnn Whitehead NagdaFirst published in 2000—5 editionsSomeone marked as Want to Read 1 minute agoBorrowListen\n",
      "Snakes (Discovery Program)byJonathan Miller,Rachel Firth,Jonathan Sheikh-Miller, andGillian DohertyFirst published in 2001—7 editionsSomeone marked as Read 1 minute agoBorrowListen\n",
      "Grady the Goose (General Reading)byDenise Brennan-NelsonFirst published in 2006—1 editionSomeone marked as Want to Read 1 minute agoBorrowListen\n",
      "Caterpillars and Butterflies (Beginners)byEmma HelbroughFirst published in 2003—1 editionSomeone marked as Read 2 minutes agoBorrowListen\n",
      "Father Of The BridebyCathy Gillen ThackerFirst published in 1991—2 editionsSomeone marked as Currently Reading 2 minutes agoBorrowListen\n",
      "Snoopy, flying ace to the rescuebyDarice BailerandCharles M. SchulzFirst published in 2002—5 editionsSomeone marked as Want to Read 2 minutes agoBorrowListen\n",
      "Reading 1 A-fbySusan A. LehmanandLinda O. ParkerFirst published in 2005—4 editionsSomeone marked as Want to Read 2 minutes agoBorrowListen\n",
      "Why men don't listen & women can't read mapsbyBarbara PeaseandAllan PeaseFirst published in 1998—18 editionsSomeone marked as Want to Read 2 minutes agoBorrowListen\n",
      "Kung Fu PandabyCathy HapkaFirst published in 2008—3 editionsSomeone marked as Want to Read 2 minutes agoBorrowListen\n",
      "Grandpa Spanielson's Chicken Pox Stories: Story #2: A Snout for Chocolate (I Can Read Book 2)byDenys CazetFirst published in 2006—2 editionsSomeone marked as Read 2 minutes agoBorrowListen\n",
      "Baba Yaga: The Flying WitchbySusanna DavidsonFirst published in 2008—3 editionsSomeone marked as Want to Read 2 minutes agoBorrowListen\n",
      "ألف ليلة و ليلةbyʻAlī ShadwīFirst published in 2013—1 editionSomeone marked as Want to Read 2 minutes agoNot in Library\n",
      "Tyson the TerriblebyDiane FoxandChristyan FoxFirst published in 2006—4 editionsSomeone marked as Want to Read 2 minutes agoPreview Only\n"
     ]
    }
   ],
   "source": [
    "import requests\n",
    "from bs4 import BeautifulSoup\n",
    "\n",
    "# URL of the page you want to scrape\n",
    "url = 'https://openlibrary.org/trending/now'  # Replace with the actual URL\n",
    "\n",
    "# Send a GET request to fetch the webpage\n",
    "response = requests.get(url)\n",
    "if response.status_code == 200:\n",
    "    # Parse the page content with BeautifulSoup\n",
    "    soup = BeautifulSoup(response.text, 'html.parser')\n",
    "    \n",
    "    # Find the relevant HTML element(s) containing the country names\n",
    "    # Example: Let's assume countries are \n",
    "    #in a <ul> with <li> tags\n",
    "    countries = soup.find_all('div', class_= \"sri__main\")  # Adjust based on the actual structur\n",
    "\n",
    "    # Iterate through the list and extract the country names\n",
    "    country_names = []\n",
    "    for country in countries:\n",
    "        country_name = country.get_text(strip=True)\n",
    "        if country_name:  # Ensure we only add non-empty strings\n",
    "            country_names.append(country_name)\n",
    "\n",
    "    # Print the list of country names\n",
    "    for name in country_names:\n",
    "        print(name)\n",
    "\n",
    "else:\n",
    "    print(f\"Failed to retrieve page. Status code: {response.status_code}\")\n"
   ]
  },
  {
   "cell_type": "code",
   "execution_count": null,
   "id": "cf8a5cce",
   "metadata": {},
   "outputs": [],
   "source": []
  }
 ],
 "metadata": {
  "kernelspec": {
   "display_name": "Python 3 (ipykernel)",
   "language": "python",
   "name": "python3"
  },
  "language_info": {
   "codemirror_mode": {
    "name": "ipython",
    "version": 3
   },
   "file_extension": ".py",
   "mimetype": "text/x-python",
   "name": "python",
   "nbconvert_exporter": "python",
   "pygments_lexer": "ipython3",
   "version": "3.9.13"
  }
 },
 "nbformat": 4,
 "nbformat_minor": 5
}
