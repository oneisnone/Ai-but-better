{
 "cells": [
  {
   "cell_type": "code",
   "execution_count": null,
   "id": "bab3b250",
   "metadata": {},
   "outputs": [],
   "source": [
    "import random\n"
   ]
  },
  {
   "cell_type": "code",
   "execution_count": 44,
   "id": "f701b864",
   "metadata": {},
   "outputs": [],
   "source": [
    "def helsp(amount,sw):\n",
    "    \n",
    "    for i in range(amount):\n",
    "        if random.randint(1,2) == 2:\n",
    "            if random.randint(1,2) == 2:\n",
    "                sw += 1\n",
    "\n",
    "\n",
    "    return(sw/amount*100)"
   ]
  },
  {
   "cell_type": "code",
   "execution_count": 48,
   "id": "2ad7f5bc",
   "metadata": {},
   "outputs": [
    {
     "data": {
      "text/plain": [
       "25.004720000000002"
      ]
     },
     "execution_count": 48,
     "metadata": {},
     "output_type": "execute_result"
    }
   ],
   "source": [
    "\n",
    "helsp(10000000,0)"
   ]
  },
  {
   "cell_type": "code",
   "execution_count": 13,
   "id": "99819435",
   "metadata": {},
   "outputs": [
    {
     "data": {
      "text/plain": [
       "0.157"
      ]
     },
     "execution_count": 13,
     "metadata": {},
     "output_type": "execute_result"
    }
   ],
   "source": []
  },
  {
   "cell_type": "code",
   "execution_count": null,
   "id": "93a6e48b",
   "metadata": {},
   "outputs": [],
   "source": []
  }
 ],
 "metadata": {
  "kernelspec": {
   "display_name": "Python 3 (ipykernel)",
   "language": "python",
   "name": "python3"
  },
  "language_info": {
   "codemirror_mode": {
    "name": "ipython",
    "version": 3
   },
   "file_extension": ".py",
   "mimetype": "text/x-python",
   "name": "python",
   "nbconvert_exporter": "python",
   "pygments_lexer": "ipython3",
   "version": "3.9.13"
  }
 },
 "nbformat": 4,
 "nbformat_minor": 5
}
