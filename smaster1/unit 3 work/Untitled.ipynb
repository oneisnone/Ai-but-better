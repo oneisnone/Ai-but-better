{
 "cells": [
  {
   "cell_type": "code",
   "execution_count": 13,
   "id": "5a26497e",
   "metadata": {},
   "outputs": [],
   "source": [
    "import random \n"
   ]
  },
  {
   "cell_type": "code",
   "execution_count": 52,
   "id": "9f8165c1",
   "metadata": {},
   "outputs": [],
   "source": [
    "def basball(amount, w1 , w2 , t1 , t2):\n",
    "    for i in range(amount):\n",
    "        for z in range(7):\n",
    "            if t1 == 4:\n",
    "                w2 += 1\n",
    "            elif t2 == 4:\n",
    "                w2 += 1\n",
    "            else:\n",
    "                if random.randint(1, 100) >= 55 and z < 4:\n",
    "                    t1 += 1\n",
    "                else:\n",
    "                    t2 += 1\n",
    "                if random.randint(1, 100) >= 55 and z > 4 and z < 5:\n",
    "                    t2 += 1\n",
    "                else:\n",
    "                    t1 += 1\n",
    "                if random.randint(1, 100) >= 55 and z > 5:\n",
    "                    t1 += 1\n",
    "                else:\n",
    "                    t2 += 1\n",
    "                    \n",
    "    return(t1,t2)\n"
   ]
  },
  {
   "cell_type": "code",
   "execution_count": 51,
   "id": "c0814cca",
   "metadata": {},
   "outputs": [
    {
     "data": {
      "text/plain": [
       "(5, 4)"
      ]
     },
     "execution_count": 51,
     "metadata": {},
     "output_type": "execute_result"
    }
   ],
   "source": [
    "basball(100000, 0,0,0,0)"
   ]
  },
  {
   "cell_type": "code",
   "execution_count": 54,
   "id": "3483db82",
   "metadata": {},
   "outputs": [
    {
     "ename": "IndexError",
     "evalue": "pop from empty list",
     "output_type": "error",
     "traceback": [
      "\u001b[1;31m---------------------------------------------------------------------------\u001b[0m",
      "\u001b[1;31mIndexError\u001b[0m                                Traceback (most recent call last)",
      "\u001b[1;32m~\\AppData\\Local\\Temp\\ipykernel_4880\\1549874727.py\u001b[0m in \u001b[0;36m<module>\u001b[1;34m\u001b[0m\n\u001b[0;32m     10\u001b[0m     \u001b[1;32mreturn\u001b[0m \u001b[0mqueen_count\u001b[0m\u001b[1;33m\u001b[0m\u001b[1;33m\u001b[0m\u001b[0m\n\u001b[0;32m     11\u001b[0m \u001b[0mnum_simulations\u001b[0m \u001b[1;33m=\u001b[0m \u001b[1;36m10000\u001b[0m\u001b[1;33m\u001b[0m\u001b[1;33m\u001b[0m\u001b[0m\n\u001b[1;32m---> 12\u001b[1;33m \u001b[0mqueens_drawn\u001b[0m \u001b[1;33m=\u001b[0m \u001b[0msimulate_draws\u001b[0m\u001b[1;33m(\u001b[0m\u001b[0mnum_simulations\u001b[0m\u001b[1;33m)\u001b[0m\u001b[1;33m\u001b[0m\u001b[1;33m\u001b[0m\u001b[0m\n\u001b[0m\u001b[0;32m     13\u001b[0m \u001b[0mempirical_probability\u001b[0m \u001b[1;33m=\u001b[0m \u001b[0mqueens_drawn\u001b[0m \u001b[1;33m/\u001b[0m \u001b[0mnum_simulations\u001b[0m\u001b[1;33m\u001b[0m\u001b[1;33m\u001b[0m\u001b[0m\n\u001b[0;32m     14\u001b[0m \u001b[0mprint\u001b[0m\u001b[1;33m(\u001b[0m\u001b[1;34mf\"Empirical probability of pulling a queen: {empirical_probability:.4f}\"\u001b[0m\u001b[1;33m)\u001b[0m\u001b[1;33m\u001b[0m\u001b[1;33m\u001b[0m\u001b[0m\n",
      "\u001b[1;32m~\\AppData\\Local\\Temp\\ipykernel_4880\\1549874727.py\u001b[0m in \u001b[0;36msimulate_draws\u001b[1;34m(num_draws)\u001b[0m\n\u001b[0;32m      5\u001b[0m     \u001b[1;32mfor\u001b[0m \u001b[0m_\u001b[0m \u001b[1;32min\u001b[0m \u001b[0mrange\u001b[0m\u001b[1;33m(\u001b[0m\u001b[0mnum_draws\u001b[0m\u001b[1;33m)\u001b[0m\u001b[1;33m:\u001b[0m\u001b[1;33m\u001b[0m\u001b[1;33m\u001b[0m\u001b[0m\n\u001b[0;32m      6\u001b[0m         \u001b[0mrandom\u001b[0m\u001b[1;33m.\u001b[0m\u001b[0mshuffle\u001b[0m\u001b[1;33m(\u001b[0m\u001b[0mdeck\u001b[0m\u001b[1;33m)\u001b[0m  \u001b[1;31m# Shuffle the deck\u001b[0m\u001b[1;33m\u001b[0m\u001b[1;33m\u001b[0m\u001b[0m\n\u001b[1;32m----> 7\u001b[1;33m         \u001b[0mdrawn_card\u001b[0m \u001b[1;33m=\u001b[0m \u001b[0mdeck\u001b[0m\u001b[1;33m.\u001b[0m\u001b[0mpop\u001b[0m\u001b[1;33m(\u001b[0m\u001b[1;33m)\u001b[0m  \u001b[1;31m# Draw the top card\u001b[0m\u001b[1;33m\u001b[0m\u001b[1;33m\u001b[0m\u001b[0m\n\u001b[0m\u001b[0;32m      8\u001b[0m         \u001b[1;32mif\u001b[0m \u001b[0mdrawn_card\u001b[0m \u001b[1;33m==\u001b[0m \u001b[1;34m'Q'\u001b[0m\u001b[1;33m:\u001b[0m\u001b[1;33m\u001b[0m\u001b[1;33m\u001b[0m\u001b[0m\n\u001b[0;32m      9\u001b[0m             \u001b[0mqueen_count\u001b[0m \u001b[1;33m+=\u001b[0m \u001b[1;36m1\u001b[0m\u001b[1;33m\u001b[0m\u001b[1;33m\u001b[0m\u001b[0m\n",
      "\u001b[1;31mIndexError\u001b[0m: pop from empty list"
     ]
    }
   ],
   "source": [
    "import random\n",
    "def simulate_draws(num_draws):\n",
    "    deck = ['2', '3', '4', '5', '6', '7', '8', '9', '10', 'J', 'Q', 'K', 'A'] * 4  # 52 cards\n",
    "    queen_count = 0\n",
    "    for _ in range(num_draws):\n",
    "        random.shuffle(deck)  # Shuffle the deck\n",
    "        drawn_card = deck.pop()  # Draw the top card\n",
    "        if drawn_card == 'Q':\n",
    "            queen_count += 1\n",
    "    return queen_count\n",
    "num_simulations = 10000\n",
    "queens_drawn = simulate_draws(num_simulations)\n",
    "empirical_probability = queens_drawn / num_simulations\n",
    "print(f\"Empirical probability of pulling a queen: {empirical_probability:.4f}\")"
   ]
  },
  {
   "cell_type": "code",
   "execution_count": null,
   "id": "011b08ac",
   "metadata": {},
   "outputs": [],
   "source": [
    "import random\n",
    "\n",
    "def simulate_marbles(num_marbles, draws):\n",
    "    colors = ['red', 'green', 'blue']\n",
    "    marble_box = random.choices(colors, k=num_marbles)\n",
    "    color_count = {color: 0 for color in colors}\n",
    "    for marble in marble_box:\n",
    "        color_count[marble] += 1\n",
    "    drawn_colors = {'red': 0, 'green': 0, 'blue': 0}\n",
    "    for _ in range(draws):\n",
    "        if marble_box:\n",
    "            drawn_marble = random.choice(marble_box)\n",
    "            drawn_colors[drawn_marble] += 1\n",
    "            marble_box.remove(drawn_marble)\n",
    "    total_drawn = sum(drawn_colors.values())\n",
    "    proportions = {color: draw\n"
   ]
  },
  {
   "cell_type": "code",
   "execution_count": null,
   "id": "a4f5cefc",
   "metadata": {},
   "outputs": [],
   "source": []
  },
  {
   "cell_type": "code",
   "execution_count": null,
   "id": "a10610e0",
   "metadata": {},
   "outputs": [],
   "source": []
  },
  {
   "cell_type": "code",
   "execution_count": null,
   "id": "0d3281a6",
   "metadata": {},
   "outputs": [],
   "source": []
  }
 ],
 "metadata": {
  "kernelspec": {
   "display_name": "Python 3 (ipykernel)",
   "language": "python",
   "name": "python3"
  },
  "language_info": {
   "codemirror_mode": {
    "name": "ipython",
    "version": 3
   },
   "file_extension": ".py",
   "mimetype": "text/x-python",
   "name": "python",
   "nbconvert_exporter": "python",
   "pygments_lexer": "ipython3",
   "version": "3.9.13"
  }
 },
 "nbformat": 4,
 "nbformat_minor": 5
}
