{
 "cells": [
  {
   "cell_type": "markdown",
   "id": "c80b3b64",
   "metadata": {},
   "source": [
    "# Choose a Data Set\n",
    "Pick one of the following data sets to analyze for your final project. \n",
    "- [Cosmetics](https://drive.google.com/drive/folders/1qvmRfGb7a_pYAtgW6614gxlP-bxl_Ptz?usp=drive_link)\n",
    "- [Mental Health](https://drive.google.com/drive/folders/1YOp1aQVcmqlAkUEGHNPl_TyNXbY-xHwO?usp=drive_link)\n",
    "- [Pokemon](https://drive.google.com/drive/folders/1kDu2oRgm_hUW5hdM0tHnMUqCGSKUYT1v?usp=drive_link)\n",
    "- [Ramen](https://drive.google.com/drive/folders/1Y4_5QHOCy8rHc5EsEwDUuoCfp2WLo-MN?usp=drive_link)\n",
    "- [Student Performance](https://drive.google.com/drive/folders/1fE31Ka38AnGpgfI_Es3z4psuA0phhH0Y?usp=drive_link)"
   ]
  },
  {
   "cell_type": "markdown",
   "id": "8a7e64bc",
   "metadata": {},
   "source": [
    "# My Question"
   ]
  },
  {
   "cell_type": "markdown",
   "id": "b52e166c",
   "metadata": {},
   "source": [
    "What is the difference and similarity between the attack and sp. attack of stat scores of all pokemon"
   ]
  },
  {
   "cell_type": "markdown",
   "id": "0a574d2e",
   "metadata": {},
   "source": [
    "# My Analysis"
   ]
  },
  {
   "cell_type": "code",
   "execution_count": 22,
   "id": "e9e64518",
   "metadata": {
    "scrolled": false
   },
   "outputs": [
    {
     "name": "stdout",
     "output_type": "stream",
     "text": [
      "5 point for sp atk {'min': 5, 'Q3': 100.0, 'mean': 79.00125, 'Q1': 55.0, 'max': 190}\n",
      "5 point for sp atk {'min': 10, 'Q3': 95.0, 'mean': 72.82, 'Q1': 49.75, 'max': 194}\n",
      "standerd divtion for atk 32.45736586949843\n",
      "standerd divtion for sp atk 32.72229416880157\n"
     ]
    },
    {
     "data": {
      "image/png": "[encoded data removed]",
      "text/plain": [
       "<Figure size 640x480 with 1 Axes>"
      ]
     },
     "metadata": {},
     "output_type": "display_data"
    }
   ],
   "source": [
    "import pandas as pd\n",
    "import seaborn as sns\n",
    "df = pd.read_csv('pokemon.csv', encoding='windows-1252')\n",
    "sns.histplot(data=df, x=\"Attack\", color=\"blue\")\n",
    "sns.histplot(data=df, x=\"Sp. Atk\", color=\"red\")\n",
    "summery1 = {\n",
    "    \"min\":df[\"Attack\"].min(),\n",
    "    \"Q3\":df[\"Attack\"].quantile(0.75),\n",
    "    \"mean\":df[\"Attack\"].mean(),\n",
    "    \"Q1\":df[\"Attack\"].quantile(0.25),\n",
    "    \"max\":df[\"Attack\"].max()\n",
    "}\n",
    "summery2 = {\n",
    "    \"min\":df[\"Sp. Atk\"].min(),\n",
    "    \"Q3\":df[\"Sp. Atk\"].quantile(0.75),\n",
    "    \"mean\":df[\"Sp. Atk\"].mean(),\n",
    "    \"Q1\":df[\"Sp. Atk\"].quantile(0.25),\n",
    "    \"max\":df[\"Sp. Atk\"].max()\n",
    "}\n",
    "print(\"5 point for sp atk\",summery1)\n",
    "print(\"5 point for sp atk\",summery2)\n",
    "print(\"standerd divtion for atk\",df[\"Attack\"].std())\n",
    "print(\"standerd divtion for sp atk\",df[\"Sp. Atk\"].std())"
   ]
  },
  {
   "cell_type": "markdown",
   "id": "77e676b2",
   "metadata": {},
   "source": [
    "# My Answer"
   ]
  },
  {
   "cell_type": "markdown",
   "id": "16aec0ac",
   "metadata": {},
   "source": [
    "In the data of pokemon it covers the attack states of pokemon and the special attack of each pokemon where we can see the difference and similarities.  In a histogram we can see that red( special  attack starts later and ends later then attack. And while analyzing it we see that the min of attack starts at 5 while spelicel atack  starts at 10.  We also see that the mean of specle attack is lower, meaning that the average pokemon will have a higher attack than the special attack. We see a similarity in the standard deviation as both have a 32.3 to 32.7 being very close.\n"
   ]
  }
 ],
 "metadata": {
  "kernelspec": {
   "display_name": "Python 3 (ipykernel)",
   "language": "python",
   "name": "python3"
  },
  "language_info": {
   "codemirror_mode": {
    "name": "ipython",
    "version": 3
   },
   "file_extension": ".py",
   "mimetype": "text/x-python",
   "name": "python",
   "nbconvert_exporter": "python",
   "pygments_lexer": "ipython3",
   "version": "3.9.13"
  }
 },
 "nbformat": 4,
 "nbformat_minor": 5
}
