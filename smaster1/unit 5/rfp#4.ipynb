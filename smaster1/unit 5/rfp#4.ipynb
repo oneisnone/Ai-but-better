{
 "cells": [
  {
   "cell_type": "code",
   "execution_count": 35,
   "id": "93ebf816",
   "metadata": {},
   "outputs": [
    {
     "name": "stdout",
     "output_type": "stream",
     "text": [
      "                                                  href  \\\n",
      "0    https://api.spotify.com/v1/playlists/0bw8158RM...   \n",
      "1    https://api.spotify.com/v1/playlists/0bw8158RM...   \n",
      "2    https://api.spotify.com/v1/playlists/0bw8158RM...   \n",
      "3    https://api.spotify.com/v1/playlists/0bw8158RM...   \n",
      "4    https://api.spotify.com/v1/playlists/0bw8158RM...   \n",
      "..                                                 ...   \n",
      "141  https://api.spotify.com/v1/playlists/0bw8158RM...   \n",
      "142  https://api.spotify.com/v1/playlists/0bw8158RM...   \n",
      "143  https://api.spotify.com/v1/playlists/0bw8158RM...   \n",
      "144  https://api.spotify.com/v1/playlists/0bw8158RM...   \n",
      "145  https://api.spotify.com/v1/playlists/0bw8158RM...   \n",
      "\n",
      "                                                 items  limit  \\\n",
      "0    {'added_at': '2017-06-23T23:21:59Z', 'added_by...    100   \n",
      "1    {'added_at': '2017-04-21T17:02:44Z', 'added_by...    100   \n",
      "2    {'added_at': '2017-06-12T22:46:03Z', 'added_by...    100   \n",
      "3    {'added_at': '2017-04-15T00:53:05Z', 'added_by...    100   \n",
      "4    {'added_at': '2017-06-29T23:13:06Z', 'added_by...    100   \n",
      "..                                                 ...    ...   \n",
      "141  {'added_at': '2024-07-02T05:22:56Z', 'added_by...    100   \n",
      "142  {'added_at': '2024-10-06T05:22:15Z', 'added_by...    100   \n",
      "143  {'added_at': '2024-10-06T05:24:37Z', 'added_by...    100   \n",
      "144  {'added_at': '2024-11-07T23:54:43Z', 'added_by...    100   \n",
      "145  {'added_at': '2024-12-12T22:41:56Z', 'added_by...    100   \n",
      "\n",
      "                                                  next  offset previous  total  \n",
      "0    https://api.spotify.com/v1/playlists/0bw8158RM...       0     None    146  \n",
      "1    https://api.spotify.com/v1/playlists/0bw8158RM...       0     None    146  \n",
      "2    https://api.spotify.com/v1/playlists/0bw8158RM...       0     None    146  \n",
      "3    https://api.spotify.com/v1/playlists/0bw8158RM...       0     None    146  \n",
      "4    https://api.spotify.com/v1/playlists/0bw8158RM...       0     None    146  \n",
      "..                                                 ...     ...      ...    ...  \n",
      "141  https://api.spotify.com/v1/playlists/0bw8158RM...       0     None    146  \n",
      "142  https://api.spotify.com/v1/playlists/0bw8158RM...       0     None    146  \n",
      "143  https://api.spotify.com/v1/playlists/0bw8158RM...       0     None    146  \n",
      "144  https://api.spotify.com/v1/playlists/0bw8158RM...       0     None    146  \n",
      "145  https://api.spotify.com/v1/playlists/0bw8158RM...       0     None    146  \n",
      "\n",
      "[146 rows x 7 columns]\n"
     ]
    }
   ],
   "source": [
    "import pandas as pd\n",
    "import json\n",
    "import seaborn as sns\n",
    "jsonFile = json.load(open(\"vetting_playlist.json\"))\n",
    " \n",
    "# Set json data into Pandas DataFrame\n",
    "dataF = pd.DataFrame(jsonFile[\"tracks\"])\n",
    " \n",
    "# Output DataFrame\n",
    "print(dataF)"
   ]
  },
  {
   "cell_type": "code",
   "execution_count": 31,
   "id": "cf0b6a00",
   "metadata": {},
   "outputs": [
    {
     "name": "stdout",
     "output_type": "stream",
     "text": [
      "                                                  href  \\\n",
      "0    https://api.spotify.com/v1/playlists/0bw8158RM...   \n",
      "1    https://api.spotify.com/v1/playlists/0bw8158RM...   \n",
      "2    https://api.spotify.com/v1/playlists/0bw8158RM...   \n",
      "3    https://api.spotify.com/v1/playlists/0bw8158RM...   \n",
      "4    https://api.spotify.com/v1/playlists/0bw8158RM...   \n",
      "..                                                 ...   \n",
      "141  https://api.spotify.com/v1/playlists/0bw8158RM...   \n",
      "142  https://api.spotify.com/v1/playlists/0bw8158RM...   \n",
      "143  https://api.spotify.com/v1/playlists/0bw8158RM...   \n",
      "144  https://api.spotify.com/v1/playlists/0bw8158RM...   \n",
      "145  https://api.spotify.com/v1/playlists/0bw8158RM...   \n",
      "\n",
      "                                                 items  limit  \\\n",
      "0    {'added_at': '2017-06-23T23:21:59Z', 'added_by...    100   \n",
      "1    {'added_at': '2017-04-21T17:02:44Z', 'added_by...    100   \n",
      "2    {'added_at': '2017-06-12T22:46:03Z', 'added_by...    100   \n",
      "3    {'added_at': '2017-04-15T00:53:05Z', 'added_by...    100   \n",
      "4    {'added_at': '2017-06-29T23:13:06Z', 'added_by...    100   \n",
      "..                                                 ...    ...   \n",
      "141  {'added_at': '2024-07-02T05:22:56Z', 'added_by...    100   \n",
      "142  {'added_at': '2024-10-06T05:22:15Z', 'added_by...    100   \n",
      "143  {'added_at': '2024-10-06T05:24:37Z', 'added_by...    100   \n",
      "144  {'added_at': '2024-11-07T23:54:43Z', 'added_by...    100   \n",
      "145  {'added_at': '2024-12-12T22:41:56Z', 'added_by...    100   \n",
      "\n",
      "                                                  next  offset previous  total  \n",
      "0    https://api.spotify.com/v1/playlists/0bw8158RM...       0     None    146  \n",
      "1    https://api.spotify.com/v1/playlists/0bw8158RM...       0     None    146  \n",
      "2    https://api.spotify.com/v1/playlists/0bw8158RM...       0     None    146  \n",
      "3    https://api.spotify.com/v1/playlists/0bw8158RM...       0     None    146  \n",
      "4    https://api.spotify.com/v1/playlists/0bw8158RM...       0     None    146  \n",
      "..                                                 ...     ...      ...    ...  \n",
      "141  https://api.spotify.com/v1/playlists/0bw8158RM...       0     None    146  \n",
      "142  https://api.spotify.com/v1/playlists/0bw8158RM...       0     None    146  \n",
      "143  https://api.spotify.com/v1/playlists/0bw8158RM...       0     None    146  \n",
      "144  https://api.spotify.com/v1/playlists/0bw8158RM...       0     None    146  \n",
      "145  https://api.spotify.com/v1/playlists/0bw8158RM...       0     None    146  \n",
      "\n",
      "[146 rows x 7 columns]\n"
     ]
    }
   ],
   "source": [
    "print(df)"
   ]
  },
  {
   "cell_type": "code",
   "execution_count": null,
   "id": "f04eaccd",
   "metadata": {},
   "outputs": [],
   "source": []
  }
 ],
 "metadata": {
  "kernelspec": {
   "display_name": "Python 3 (ipykernel)",
   "language": "python",
   "name": "python3"
  },
  "language_info": {
   "codemirror_mode": {
    "name": "ipython",
    "version": 3
   },
   "file_extension": ".py",
   "mimetype": "text/x-python",
   "name": "python",
   "nbconvert_exporter": "python",
   "pygments_lexer": "ipython3",
   "version": "3.9.13"
  }
 },
 "nbformat": 4,
 "nbformat_minor": 5
}
